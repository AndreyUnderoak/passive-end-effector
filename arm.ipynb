{
 "cells": [
  {
   "cell_type": "code",
   "execution_count": 32,
   "metadata": {},
   "outputs": [],
   "source": [
    "import time\n",
    "import mujoco\n",
    "import mujoco.viewer\n",
    "import numpy as np\n",
    "import matplotlib.pyplot as plt\n",
    "\n",
    "model = mujoco.MjModel.from_xml_path('model.xml')\n",
    "data = mujoco.MjData(model)\n",
    "\n",
    "\n",
    "with mujoco.viewer.launch_passive(model, data) as viewer:\n",
    "    start_time =time.time()\n",
    "    while (viewer.is_running()) and (time.time() - start_time < 100):\n",
    "        step_start=time.time()\n",
    "        mujoco.mj_step(model, data)\n",
    "        viewer.sync()\n",
    "\n",
    "        time_until_next_step = model.opt.timestep - (time.time() - step_start)\n",
    "        if time_until_next_step > 0:\n",
    "            time.sleep(time_until_next_step) "
   ]
  }
 ],
 "metadata": {
  "kernelspec": {
   "display_name": "simrobs",
   "language": "python",
   "name": "python3"
  },
  "language_info": {
   "codemirror_mode": {
    "name": "ipython",
    "version": 3
   },
   "file_extension": ".py",
   "mimetype": "text/x-python",
   "name": "python",
   "nbconvert_exporter": "python",
   "pygments_lexer": "ipython3",
   "version": "3.10.12"
  }
 },
 "nbformat": 4,
 "nbformat_minor": 2
}
